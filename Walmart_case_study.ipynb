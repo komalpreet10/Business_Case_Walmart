{
 "cells": [
  {
   "cell_type": "markdown",
   "id": "6d9c9301",
   "metadata": {},
   "source": [
    "### Walmart:\n",
    "\n",
    "* Walmart is an American multinational retail corporation that operates a chain of supercenters, discount departmental stores, and grocery stores in the United States.\n",
    "* Walmart has more than 100 million customers worldwide"
   ]
  },
  {
   "cell_type": "markdown",
   "id": "1c07bfef",
   "metadata": {},
   "source": [
    "#### Business Problem:\n",
    "\n",
    "* The Management team at Walmart Inc. wants to analyze the customer purchase behavior (precisely, purchase amount) against the customer’s gender and the various other factors to help the business make better decisions. \n",
    "* They want to understand if the spending habits differ between male and female customers: Do women spend more on Black Friday than men?"
   ]
  },
  {
   "cell_type": "code",
   "execution_count": 1,
   "id": "13118626",
   "metadata": {},
   "outputs": [],
   "source": [
    "#import libraries\n",
    "import numpy as np\n",
    "import pandas as pd\n",
    "import matplotlib.pyplot as plt\n",
    "import seaborn as sns"
   ]
  },
  {
   "cell_type": "code",
   "execution_count": 2,
   "id": "cef8a7b8",
   "metadata": {},
   "outputs": [],
   "source": [
    "df = pd.read_csv('walmart_data.csv')"
   ]
  },
  {
   "cell_type": "code",
   "execution_count": 3,
   "id": "92796fa9",
   "metadata": {},
   "outputs": [
    {
     "data": {
      "text/html": [
       "<div>\n",
       "<style scoped>\n",
       "    .dataframe tbody tr th:only-of-type {\n",
       "        vertical-align: middle;\n",
       "    }\n",
       "\n",
       "    .dataframe tbody tr th {\n",
       "        vertical-align: top;\n",
       "    }\n",
       "\n",
       "    .dataframe thead th {\n",
       "        text-align: right;\n",
       "    }\n",
       "</style>\n",
       "<table border=\"1\" class=\"dataframe\">\n",
       "  <thead>\n",
       "    <tr style=\"text-align: right;\">\n",
       "      <th></th>\n",
       "      <th>User_ID</th>\n",
       "      <th>Product_ID</th>\n",
       "      <th>Gender</th>\n",
       "      <th>Age</th>\n",
       "      <th>Occupation</th>\n",
       "      <th>City_Category</th>\n",
       "      <th>Stay_In_Current_City_Years</th>\n",
       "      <th>Marital_Status</th>\n",
       "      <th>Product_Category</th>\n",
       "      <th>Purchase</th>\n",
       "    </tr>\n",
       "  </thead>\n",
       "  <tbody>\n",
       "    <tr>\n",
       "      <th>0</th>\n",
       "      <td>1000001</td>\n",
       "      <td>P00069042</td>\n",
       "      <td>F</td>\n",
       "      <td>0-17</td>\n",
       "      <td>10</td>\n",
       "      <td>A</td>\n",
       "      <td>2</td>\n",
       "      <td>0</td>\n",
       "      <td>3</td>\n",
       "      <td>8370</td>\n",
       "    </tr>\n",
       "    <tr>\n",
       "      <th>1</th>\n",
       "      <td>1000001</td>\n",
       "      <td>P00248942</td>\n",
       "      <td>F</td>\n",
       "      <td>0-17</td>\n",
       "      <td>10</td>\n",
       "      <td>A</td>\n",
       "      <td>2</td>\n",
       "      <td>0</td>\n",
       "      <td>1</td>\n",
       "      <td>15200</td>\n",
       "    </tr>\n",
       "    <tr>\n",
       "      <th>2</th>\n",
       "      <td>1000001</td>\n",
       "      <td>P00087842</td>\n",
       "      <td>F</td>\n",
       "      <td>0-17</td>\n",
       "      <td>10</td>\n",
       "      <td>A</td>\n",
       "      <td>2</td>\n",
       "      <td>0</td>\n",
       "      <td>12</td>\n",
       "      <td>1422</td>\n",
       "    </tr>\n",
       "    <tr>\n",
       "      <th>3</th>\n",
       "      <td>1000001</td>\n",
       "      <td>P00085442</td>\n",
       "      <td>F</td>\n",
       "      <td>0-17</td>\n",
       "      <td>10</td>\n",
       "      <td>A</td>\n",
       "      <td>2</td>\n",
       "      <td>0</td>\n",
       "      <td>12</td>\n",
       "      <td>1057</td>\n",
       "    </tr>\n",
       "    <tr>\n",
       "      <th>4</th>\n",
       "      <td>1000002</td>\n",
       "      <td>P00285442</td>\n",
       "      <td>M</td>\n",
       "      <td>55+</td>\n",
       "      <td>16</td>\n",
       "      <td>C</td>\n",
       "      <td>4+</td>\n",
       "      <td>0</td>\n",
       "      <td>8</td>\n",
       "      <td>7969</td>\n",
       "    </tr>\n",
       "  </tbody>\n",
       "</table>\n",
       "</div>"
      ],
      "text/plain": [
       "   User_ID Product_ID Gender   Age  Occupation City_Category  \\\n",
       "0  1000001  P00069042      F  0-17          10             A   \n",
       "1  1000001  P00248942      F  0-17          10             A   \n",
       "2  1000001  P00087842      F  0-17          10             A   \n",
       "3  1000001  P00085442      F  0-17          10             A   \n",
       "4  1000002  P00285442      M   55+          16             C   \n",
       "\n",
       "  Stay_In_Current_City_Years  Marital_Status  Product_Category  Purchase  \n",
       "0                          2               0                 3      8370  \n",
       "1                          2               0                 1     15200  \n",
       "2                          2               0                12      1422  \n",
       "3                          2               0                12      1057  \n",
       "4                         4+               0                 8      7969  "
      ]
     },
     "execution_count": 3,
     "metadata": {},
     "output_type": "execute_result"
    }
   ],
   "source": [
    "df.head()"
   ]
  },
  {
   "cell_type": "code",
   "execution_count": 4,
   "id": "9339b4b5",
   "metadata": {},
   "outputs": [
    {
     "name": "stdout",
     "output_type": "stream",
     "text": [
      "<class 'pandas.core.frame.DataFrame'>\n",
      "RangeIndex: 550068 entries, 0 to 550067\n",
      "Data columns (total 10 columns):\n",
      " #   Column                      Non-Null Count   Dtype \n",
      "---  ------                      --------------   ----- \n",
      " 0   User_ID                     550068 non-null  int64 \n",
      " 1   Product_ID                  550068 non-null  object\n",
      " 2   Gender                      550068 non-null  object\n",
      " 3   Age                         550068 non-null  object\n",
      " 4   Occupation                  550068 non-null  int64 \n",
      " 5   City_Category               550068 non-null  object\n",
      " 6   Stay_In_Current_City_Years  550068 non-null  object\n",
      " 7   Marital_Status              550068 non-null  int64 \n",
      " 8   Product_Category            550068 non-null  int64 \n",
      " 9   Purchase                    550068 non-null  int64 \n",
      "dtypes: int64(5), object(5)\n",
      "memory usage: 42.0+ MB\n"
     ]
    }
   ],
   "source": [
    "df.info()"
   ]
  },
  {
   "cell_type": "markdown",
   "id": "0115ca70",
   "metadata": {},
   "source": [
    "The columns User_ID,Product_ID,Gender,Age,Occupation,City_Category,Marital_Status,Product_Category have categorical values.Hence, we need to change the data type to category."
   ]
  },
  {
   "cell_type": "code",
   "execution_count": 26,
   "id": "9f18f720",
   "metadata": {},
   "outputs": [],
   "source": [
    "df['Marital_Status'] = df['Marital_Status'].apply(lambda x: 'Married' if x == 1 else 'Single')"
   ]
  },
  {
   "cell_type": "code",
   "execution_count": 36,
   "id": "7cf12d85",
   "metadata": {},
   "outputs": [],
   "source": [
    "columns = ['User_ID','Product_ID','Gender','Age','Occupation','City_Category','Marital_Status','Product_Category']\n",
    "df[columns] = df[columns].astype('category')"
   ]
  },
  {
   "cell_type": "code",
   "execution_count": 38,
   "id": "ab5a0862",
   "metadata": {},
   "outputs": [
    {
     "data": {
      "text/plain": [
       "User_ID                       category\n",
       "Product_ID                    category\n",
       "Gender                        category\n",
       "Age                           category\n",
       "Occupation                    category\n",
       "City_Category                 category\n",
       "Stay_In_Current_City_Years      object\n",
       "Marital_Status                category\n",
       "Product_Category              category\n",
       "Purchase                         int64\n",
       "dtype: object"
      ]
     },
     "execution_count": 38,
     "metadata": {},
     "output_type": "execute_result"
    }
   ],
   "source": [
    "df.dtypes"
   ]
  },
  {
   "cell_type": "code",
   "execution_count": 39,
   "id": "1c258825",
   "metadata": {},
   "outputs": [
    {
     "data": {
      "text/plain": [
       "0"
      ]
     },
     "execution_count": 39,
     "metadata": {},
     "output_type": "execute_result"
    }
   ],
   "source": [
    "#checking duplicates\n",
    "df.duplicated().sum()"
   ]
  },
  {
   "cell_type": "code",
   "execution_count": 40,
   "id": "38993af2",
   "metadata": {},
   "outputs": [
    {
     "data": {
      "text/html": [
       "<div>\n",
       "<style scoped>\n",
       "    .dataframe tbody tr th:only-of-type {\n",
       "        vertical-align: middle;\n",
       "    }\n",
       "\n",
       "    .dataframe tbody tr th {\n",
       "        vertical-align: top;\n",
       "    }\n",
       "\n",
       "    .dataframe thead th {\n",
       "        text-align: right;\n",
       "    }\n",
       "</style>\n",
       "<table border=\"1\" class=\"dataframe\">\n",
       "  <thead>\n",
       "    <tr style=\"text-align: right;\">\n",
       "      <th></th>\n",
       "      <th>Purchase</th>\n",
       "    </tr>\n",
       "  </thead>\n",
       "  <tbody>\n",
       "    <tr>\n",
       "      <th>count</th>\n",
       "      <td>550068.000000</td>\n",
       "    </tr>\n",
       "    <tr>\n",
       "      <th>mean</th>\n",
       "      <td>9263.968713</td>\n",
       "    </tr>\n",
       "    <tr>\n",
       "      <th>std</th>\n",
       "      <td>5023.065394</td>\n",
       "    </tr>\n",
       "    <tr>\n",
       "      <th>min</th>\n",
       "      <td>12.000000</td>\n",
       "    </tr>\n",
       "    <tr>\n",
       "      <th>25%</th>\n",
       "      <td>5823.000000</td>\n",
       "    </tr>\n",
       "    <tr>\n",
       "      <th>50%</th>\n",
       "      <td>8047.000000</td>\n",
       "    </tr>\n",
       "    <tr>\n",
       "      <th>75%</th>\n",
       "      <td>12054.000000</td>\n",
       "    </tr>\n",
       "    <tr>\n",
       "      <th>max</th>\n",
       "      <td>23961.000000</td>\n",
       "    </tr>\n",
       "  </tbody>\n",
       "</table>\n",
       "</div>"
      ],
      "text/plain": [
       "            Purchase\n",
       "count  550068.000000\n",
       "mean     9263.968713\n",
       "std      5023.065394\n",
       "min        12.000000\n",
       "25%      5823.000000\n",
       "50%      8047.000000\n",
       "75%     12054.000000\n",
       "max     23961.000000"
      ]
     },
     "execution_count": 40,
     "metadata": {},
     "output_type": "execute_result"
    }
   ],
   "source": [
    "#checking descriptive characteristics\n",
    "df.describe()"
   ]
  },
  {
   "cell_type": "code",
   "execution_count": 41,
   "id": "c799ed3b",
   "metadata": {},
   "outputs": [
    {
     "data": {
      "text/html": [
       "<div>\n",
       "<style scoped>\n",
       "    .dataframe tbody tr th:only-of-type {\n",
       "        vertical-align: middle;\n",
       "    }\n",
       "\n",
       "    .dataframe tbody tr th {\n",
       "        vertical-align: top;\n",
       "    }\n",
       "\n",
       "    .dataframe thead th {\n",
       "        text-align: right;\n",
       "    }\n",
       "</style>\n",
       "<table border=\"1\" class=\"dataframe\">\n",
       "  <thead>\n",
       "    <tr style=\"text-align: right;\">\n",
       "      <th></th>\n",
       "      <th>count</th>\n",
       "      <th>unique</th>\n",
       "      <th>top</th>\n",
       "      <th>freq</th>\n",
       "    </tr>\n",
       "  </thead>\n",
       "  <tbody>\n",
       "    <tr>\n",
       "      <th>User_ID</th>\n",
       "      <td>550068</td>\n",
       "      <td>5891</td>\n",
       "      <td>1001680</td>\n",
       "      <td>1026</td>\n",
       "    </tr>\n",
       "    <tr>\n",
       "      <th>Product_ID</th>\n",
       "      <td>550068</td>\n",
       "      <td>3631</td>\n",
       "      <td>P00265242</td>\n",
       "      <td>1880</td>\n",
       "    </tr>\n",
       "    <tr>\n",
       "      <th>Gender</th>\n",
       "      <td>550068</td>\n",
       "      <td>2</td>\n",
       "      <td>M</td>\n",
       "      <td>414259</td>\n",
       "    </tr>\n",
       "    <tr>\n",
       "      <th>Age</th>\n",
       "      <td>550068</td>\n",
       "      <td>7</td>\n",
       "      <td>26-35</td>\n",
       "      <td>219587</td>\n",
       "    </tr>\n",
       "    <tr>\n",
       "      <th>Occupation</th>\n",
       "      <td>550068</td>\n",
       "      <td>21</td>\n",
       "      <td>4</td>\n",
       "      <td>72308</td>\n",
       "    </tr>\n",
       "    <tr>\n",
       "      <th>City_Category</th>\n",
       "      <td>550068</td>\n",
       "      <td>3</td>\n",
       "      <td>B</td>\n",
       "      <td>231173</td>\n",
       "    </tr>\n",
       "    <tr>\n",
       "      <th>Stay_In_Current_City_Years</th>\n",
       "      <td>550068</td>\n",
       "      <td>5</td>\n",
       "      <td>1</td>\n",
       "      <td>193821</td>\n",
       "    </tr>\n",
       "    <tr>\n",
       "      <th>Marital_Status</th>\n",
       "      <td>550068</td>\n",
       "      <td>2</td>\n",
       "      <td>Single</td>\n",
       "      <td>324731</td>\n",
       "    </tr>\n",
       "    <tr>\n",
       "      <th>Product_Category</th>\n",
       "      <td>550068</td>\n",
       "      <td>20</td>\n",
       "      <td>5</td>\n",
       "      <td>150933</td>\n",
       "    </tr>\n",
       "  </tbody>\n",
       "</table>\n",
       "</div>"
      ],
      "text/plain": [
       "                             count unique        top    freq\n",
       "User_ID                     550068   5891    1001680    1026\n",
       "Product_ID                  550068   3631  P00265242    1880\n",
       "Gender                      550068      2          M  414259\n",
       "Age                         550068      7      26-35  219587\n",
       "Occupation                  550068     21          4   72308\n",
       "City_Category               550068      3          B  231173\n",
       "Stay_In_Current_City_Years  550068      5          1  193821\n",
       "Marital_Status              550068      2     Single  324731\n",
       "Product_Category            550068     20          5  150933"
      ]
     },
     "execution_count": 41,
     "metadata": {},
     "output_type": "execute_result"
    }
   ],
   "source": [
    "df.describe(include = ['object','category']).T"
   ]
  },
  {
   "cell_type": "markdown",
   "id": "47536076",
   "metadata": {},
   "source": [
    "### Insights:\n",
    "* There are 5891 unique users.USER_ID 1001680 shopped the most frequent from Walmart.\n",
    "* There are 3631 unique products.Product_ID P00265242 is the most frequent sold item.\n",
    "* Men are more frequent buyers than females.\n",
    "* There are 7 unique age categories."
   ]
  },
  {
   "cell_type": "markdown",
   "id": "12b22217",
   "metadata": {},
   "source": [
    "### Detect Outliers"
   ]
  },
  {
   "cell_type": "code",
   "execution_count": 11,
   "id": "f3ef41e5",
   "metadata": {},
   "outputs": [
    {
     "data": {
      "text/plain": [
       "Index(['User_ID', 'Product_ID', 'Gender', 'Age', 'Occupation', 'City_Category',\n",
       "       'Stay_In_Current_City_Years', 'Marital_Status', 'Product_Category',\n",
       "       'Purchase'],\n",
       "      dtype='object')"
      ]
     },
     "execution_count": 11,
     "metadata": {},
     "output_type": "execute_result"
    }
   ],
   "source": [
    "df.columns"
   ]
  },
  {
   "cell_type": "code",
   "execution_count": 23,
   "id": "31d9b1ad",
   "metadata": {},
   "outputs": [
    {
     "name": "stderr",
     "output_type": "stream",
     "text": [
      "/Users/komalpreet/opt/anaconda3/lib/python3.9/site-packages/seaborn/_decorators.py:36: FutureWarning: Pass the following variable as a keyword arg: x. From version 0.12, the only valid positional argument will be `data`, and passing other arguments without an explicit keyword will result in an error or misinterpretation.\n",
      "  warnings.warn(\n"
     ]
    },
    {
     "data": {
      "text/plain": [
       "<AxesSubplot:xlabel='Purchase'>"
      ]
     },
     "execution_count": 23,
     "metadata": {},
     "output_type": "execute_result"
    },
    {
     "data": {
      "image/png": "[encoded data removed]",
      "text/plain": [
       "<Figure size 1200x600 with 1 Axes>"
      ]
     },
     "metadata": {},
     "output_type": "display_data"
    }
   ],
   "source": [
    "plt.figure(figsize = (12,6))\n",
    "sns.boxplot(df['Purchase'])"
   ]
  },
  {
   "cell_type": "markdown",
   "id": "296fdf71",
   "metadata": {},
   "source": [
    "#### Data Exploration"
   ]
  },
  {
   "cell_type": "code",
   "execution_count": 36,
   "id": "db82dfc4",
   "metadata": {},
   "outputs": [
    {
     "data": {
      "image/png": "[encoded data removed]",
      "text/plain": [
       "<Figure size 1200x600 with 1 Axes>"
      ]
     },
     "metadata": {},
     "output_type": "display_data"
    }
   ],
   "source": [
    "# Plotting\n",
    "plt.figure(figsize = (12,6))\n",
    "sns.boxplot(x= 'Age', y= 'Purchase',hue = 'Marital_Status', data = df,palette=\"Set3\")\n",
    "plt.xlabel('Age')\n",
    "plt.ylabel('Purchase')\n",
    "plt.title('Purchase Amount Distribution by Age and Marital Status')\n",
    "plt.legend(title='Marital Status', loc = 'upper right')\n",
    "plt.show()"
   ]
  },
  {
   "cell_type": "code",
   "execution_count": 43,
   "id": "fc90db5b",
   "metadata": {},
   "outputs": [
    {
     "data": {
      "text/plain": [
       "<AxesSubplot:xlabel='Product_Category', ylabel='count'>"
      ]
     },
     "execution_count": 43,
     "metadata": {},
     "output_type": "execute_result"
    },
    {
     "data": {
      "image/png": "[encoded data removed]",
      "text/plain": [
       "<Figure size 640x480 with 1 Axes>"
      ]
     },
     "metadata": {},
     "output_type": "display_data"
    }
   ],
   "source": [
    "sns.countplot(x= df['Product_Category'], hue = df['Gender'],palette=\"Set3\")"
   ]
  },
  {
   "cell_type": "markdown",
   "id": "a4213cf5",
   "metadata": {},
   "source": [
    "#### How does Marital_Status affect the amount spent?"
   ]
  },
  {
   "cell_type": "code",
   "execution_count": 42,
   "id": "f30a76c2",
   "metadata": {},
   "outputs": [
    {
     "name": "stdout",
     "output_type": "stream",
     "text": [
      "Single: 95% CI for the mean purchase is between 9249.82707633395 and 9282.741680267667\n",
      "Married: 95% CI for the mean purchase is between 9240.919282785339 and 9283.930499651633\n",
      "\n",
      "Sample size: 300\n",
      "Single: 95% CI for the mean purchase is between 8408.291000000001 and 9526.686583333332\n",
      "Married: 95% CI for the mean purchase is between 8578.679166666667 and 9784.260166666667\n",
      "\n",
      "Sample size: 3000\n",
      "Single: 95% CI for the mean purchase is between 9148.000558333333 and 9496.940133333334\n",
      "Married: 95% CI for the mean purchase is between 9193.100766666666 and 9559.7492\n",
      "\n",
      "Sample size: 30000\n",
      "Single: 95% CI for the mean purchase is between 9261.790465 and 9376.112505833335\n",
      "Married: 95% CI for the mean purchase is between 9159.47936 and 9270.367834166667\n"
     ]
    }
   ],
   "source": [
    "# Define a function to compute bootstrap confidence intervals\n",
    "def bootstrap_ci(data, num_samples=1000, ci=95):\n",
    "    means = []\n",
    "    n = len(data)\n",
    "    for _ in range(num_samples):\n",
    "        sample = np.random.choice(data, size=n, replace=True)\n",
    "        means.append(np.mean(sample))\n",
    "    lower = np.percentile(means, (100 - ci) / 2)\n",
    "    upper = np.percentile(means, 100 - (100 - ci) / 2)\n",
    "    return lower, upper\n",
    "\n",
    "# Calculate confidence intervals for the whole dataset\n",
    "for status in df['Marital_Status'].cat.categories:\n",
    "    data = df[df['Marital_Status'] == status]['Purchase']\n",
    "    lower, upper = bootstrap_ci(data)\n",
    "    print(f\"{status}: 95% CI for the mean purchase is between {lower} and {upper}\")\n",
    "\n",
    "# Calculate confidence intervals for smaller sample sizes\n",
    "sample_sizes = [300, 3000, 30000]\n",
    "for size in sample_sizes:\n",
    "    print(f\"\\nSample size: {size}\")\n",
    "    for status in df['Marital_Status'].cat.categories:\n",
    "        data = df[df['Marital_Status'] == status]['Purchase']\n",
    "        if len(data) < size:\n",
    "            print(f\"Not enough data for {status} with sample size {size}\")\n",
    "            continue\n",
    "        sample_data = data.sample(n=size, replace=True, random_state=1)\n",
    "        lower, upper = bootstrap_ci(sample_data)\n",
    "        print(f\"{status}: 95% CI for the mean purchase is between {lower} and {upper}\")"
   ]
  },
  {
   "cell_type": "markdown",
   "id": "cc8b1d74",
   "metadata": {},
   "source": [
    "Analysis of Marital Status:\n",
    "\n",
    "#### Entire Dataset:\n",
    "\n",
    "* Single: 95% CI for the mean purchase is between 9249.83 and 9282.74\n",
    "* Married: 95% CI for the mean purchase is between 9240.92 and 9283.93\n",
    "\n",
    "\n",
    "#### Sample Size: 300:\n",
    "\n",
    "* Single: 95% CI for the mean purchase is between 8408.29 and 9526.69\n",
    "* Married: 95% CI for the mean purchase is between 8578.68 and 9784.26\n",
    "\n",
    "#### Sample Size: 3000:\n",
    "\n",
    "* Single: 95% CI for the mean purchase is between 9148.00 and 9496.94\n",
    "* Married: 95% CI for the mean purchase is between 9193.10 and 9559.75\n",
    "\n",
    "#### Sample Size: 30000:\n",
    "\n",
    "* Single: 95% CI for the mean purchase is between 9261.79 and 9376.11\n",
    "* Married: 95% CI for the mean purchase is between 9159.48 and 9270.37\n",
    "\n",
    "#### Interpretation:\n",
    "\n",
    "* Entire Dataset: The confidence intervals for both marital statuses are quite similar, with a slight difference in the lower bound.\n",
    "\n",
    "#### Sample Size Comparison:\n",
    "* For smaller sample sizes (300, 3000), the confidence intervals are wider compared to the entire dataset.\n",
    "* As the sample size increases (30000), the confidence intervals become narrower.\n",
    "\n",
    "#### Conclusion:\n",
    "* Based on the provided data, there isn't a significant difference in the widths of the confidence intervals between marital statuses for the entire dataset. However, as the sample size decreases, the confidence intervals widen, indicating increased uncertainty in the estimates. This widening is consistent for both marital statuses. Therefore, we can conclude that the wider confidence intervals for smaller sample sizes are not specifically attributable to one marital status; rather, they are a result of the reduced sample size."
   ]
  },
  {
   "cell_type": "code",
   "execution_count": 44,
   "id": "1211cf11",
   "metadata": {},
   "outputs": [
    {
     "name": "stdout",
     "output_type": "stream",
     "text": [
      "F: 95% CI for the mean purchase is between 8710.199660552687 and 8759.566100737064\n",
      "M: 95% CI for the mean purchase is between 9421.882696030743 and 9452.600793525306\n",
      "\n",
      "Sample size: 300\n",
      "F: 95% CI for the mean purchase is between 8475.790916666667 and 9693.833916666666\n",
      "M: 95% CI for the mean purchase is between 8934.391666666666 and 10065.032\n",
      "\n",
      "Sample size: 3000\n",
      "F: 95% CI for the mean purchase is between 8474.650466666668 and 8797.368825\n",
      "M: 95% CI for the mean purchase is between 9301.423358333333 and 9661.213983333333\n",
      "\n",
      "Sample size: 30000\n",
      "F: 95% CI for the mean purchase is between 8689.274371666666 and 8796.312606666666\n",
      "M: 95% CI for the mean purchase is between 9372.59169 and 9487.446450833333\n"
     ]
    }
   ],
   "source": [
    "# Calculate confidence intervals for the whole dataset\n",
    "for status in df['Gender'].cat.categories:\n",
    "    data = df[df['Gender'] == status]['Purchase']\n",
    "    lower, upper = bootstrap_ci(data)\n",
    "    print(f\"{status}: 95% CI for the mean purchase is between {lower} and {upper}\")\n",
    "\n",
    "for size in sample_sizes:\n",
    "    print(f\"\\nSample size: {size}\")\n",
    "    for status in df['Gender'].cat.categories:\n",
    "        data = df[df['Gender'] == status]['Purchase']\n",
    "        if len(data) < size:\n",
    "            print(f\"Not enough data for {status} with sample size {size}\")\n",
    "            continue\n",
    "        sample_data = data.sample(n=size, replace=True, random_state=1)\n",
    "        lower, upper = bootstrap_ci(sample_data)\n",
    "        print(f\"{status}: 95% CI for the mean purchase is between {lower} and {upper}\")"
   ]
  },
  {
   "cell_type": "markdown",
   "id": "43d73c5e",
   "metadata": {},
   "source": [
    "#### How does Age affect the amount spent?"
   ]
  },
  {
   "cell_type": "code",
   "execution_count": 45,
   "id": "490d8d31",
   "metadata": {},
   "outputs": [
    {
     "name": "stdout",
     "output_type": "stream",
     "text": [
      "0-17: 95% CI for the mean purchase is between 8855.75398457158 and 9021.700991590518\n",
      "18-25: 95% CI for the mean purchase is between 9138.56851821192 and 9199.431216134857\n",
      "26-35: 95% CI for the mean purchase is between 9230.866243447927 and 9272.896355430878\n",
      "36-45: 95% CI for the mean purchase is between 9300.703328470272 and 9359.6922950015\n",
      "46-50: 95% CI for the mean purchase is between 9163.616712435178 and 9252.325568368306\n",
      "51-55: 95% CI for the mean purchase is between 9486.076576582427 and 9586.947635775694\n",
      "55+: 95% CI for the mean purchase is between 9269.854473586309 and 9408.057232375373\n",
      "\n",
      "Sample size: 300\n",
      "0-17: 95% CI for the mean purchase is between 8265.876166666667 and 9336.72775\n",
      "18-25: 95% CI for the mean purchase is between 8210.816916666667 and 9289.317666666666\n",
      "26-35: 95% CI for the mean purchase is between 8802.814666666667 and 9902.102666666668\n",
      "36-45: 95% CI for the mean purchase is between 8123.565333333333 and 9164.580750000001\n",
      "46-50: 95% CI for the mean purchase is between 8249.351166666667 and 9320.875833333334\n",
      "51-55: 95% CI for the mean purchase is between 9188.498833333333 and 10347.258333333333\n",
      "55+: 95% CI for the mean purchase is between 8852.160833333333 and 10000.435916666665\n",
      "\n",
      "Sample size: 3000\n",
      "0-17: 95% CI for the mean purchase is between 8717.215583333333 and 9083.200141666666\n",
      "18-25: 95% CI for the mean purchase is between 8852.692425 and 9218.524683333333\n",
      "26-35: 95% CI for the mean purchase is between 9175.565141666668 and 9548.574591666667\n",
      "36-45: 95% CI for the mean purchase is between 9030.391516666667 and 9389.768508333333\n",
      "46-50: 95% CI for the mean purchase is between 9061.843116666667 and 9422.089083333332\n",
      "51-55: 95% CI for the mean purchase is between 9240.144166666667 and 9603.63275\n",
      "55+: 95% CI for the mean purchase is between 9250.623633333335 and 9615.571\n",
      "\n",
      "Sample size: 30000\n",
      "Not enough data for 0-17 with sample size 30000\n",
      "18-25: 95% CI for the mean purchase is between 9111.737169166667 and 9229.086250833332\n",
      "26-35: 95% CI for the mean purchase is between 9169.105762500001 and 9279.829073333334\n",
      "36-45: 95% CI for the mean purchase is between 9252.866765833334 and 9362.133616666666\n",
      "46-50: 95% CI for the mean purchase is between 9139.3259525 and 9257.957856666668\n",
      "51-55: 95% CI for the mean purchase is between 9487.006960833334 and 9606.943787499999\n",
      "Not enough data for 55+ with sample size 30000\n"
     ]
    }
   ],
   "source": [
    "# Calculate confidence intervals for the whole dataset\n",
    "for status in df['Age'].cat.categories:\n",
    "    data = df[df['Age'] == status]['Purchase']\n",
    "    lower, upper = bootstrap_ci(data)\n",
    "    print(f\"{status}: 95% CI for the mean purchase is between {lower} and {upper}\")\n",
    "\n",
    "for size in sample_sizes:\n",
    "    print(f\"\\nSample size: {size}\")\n",
    "    for status in df['Age'].cat.categories:\n",
    "        data = df[df['Age'] == status]['Purchase']\n",
    "        if len(data) < size:\n",
    "            print(f\"Not enough data for {status} with sample size {size}\")\n",
    "            continue\n",
    "        sample_data = data.sample(n=size, replace=True, random_state=1)\n",
    "        lower, upper = bootstrap_ci(sample_data)\n",
    "        print(f\"{status}: 95% CI for the mean purchase is between {lower} and {upper}\")"
   ]
  },
  {
   "cell_type": "markdown",
   "id": "182ec6a3",
   "metadata": {},
   "source": [
    "#### Create a report"
   ]
  },
  {
   "cell_type": "code",
   "execution_count": 46,
   "id": "cf8d624e",
   "metadata": {},
   "outputs": [
    {
     "name": "stdout",
     "output_type": "stream",
     "text": [
      "The confidence intervals for the average amount spent by males and females do not overlap.\n"
     ]
    }
   ],
   "source": [
    "# Confidence intervals for males and females\n",
    "male_data = df[df['Gender'] == 'M']['Purchase']\n",
    "female_data = df[df['Gender'] == 'F']['Purchase']\n",
    "\n",
    "male_ci = bootstrap_ci(male_data)\n",
    "female_ci = bootstrap_ci(female_data)\n",
    "\n",
    "# Check if confidence intervals overlap\n",
    "overlap = male_ci[1] >= female_ci[0] and female_ci[1] >= male_ci[0]\n",
    "\n",
    "if overlap:\n",
    "    print(\"The confidence intervals for the average amount spent by males and females overlap.\")\n",
    "else:\n",
    "    print(\"The confidence intervals for the average amount spent by males and females do not overlap.\")"
   ]
  },
  {
   "cell_type": "code",
   "execution_count": 47,
   "id": "b745dae2",
   "metadata": {},
   "outputs": [
    {
     "name": "stdout",
     "output_type": "stream",
     "text": [
      "The confidence intervals for the average amount spent by married and unmarried individuals overlap.\n"
     ]
    }
   ],
   "source": [
    "# Confidence intervals for married and unmarried individuals\n",
    "married_data = df[df['Marital_Status'] == 'Married']['Purchase']\n",
    "unmarried_data = df[df['Marital_Status'] == 'Single']['Purchase']\n",
    "\n",
    "married_ci = bootstrap_ci(married_data)\n",
    "unmarried_ci = bootstrap_ci(unmarried_data)\n",
    "\n",
    "# Check if confidence intervals overlap\n",
    "overlap = married_ci[1] >= unmarried_ci[0] and unmarried_ci[1] >= married_ci[0]\n",
    "\n",
    "if overlap:\n",
    "    print(\"The confidence intervals for the average amount spent by married and unmarried individuals overlap.\")\n",
    "else:\n",
    "    print(\"The confidence intervals for the average amount spent by married and unmarried individuals do not overlap.\")\n"
   ]
  },
  {
   "cell_type": "markdown",
   "id": "d2c1db2d",
   "metadata": {},
   "source": [
    "#### Recommendations"
   ]
  },
  {
   "cell_type": "code",
   "execution_count": 48,
   "id": "c0bdccdb",
   "metadata": {},
   "outputs": [
    {
     "name": "stdout",
     "output_type": "stream",
     "text": [
      "The confidence intervals for the average amount spent by different age groups overlap.\n"
     ]
    }
   ],
   "source": [
    "# Confidence intervals for different age groups\n",
    "age_groups_data = []\n",
    "age_groups = df['Age'].cat.categories\n",
    "\n",
    "for age_group in age_groups:\n",
    "    age_group_data = df[df['Age'] == age_group]['Purchase']\n",
    "    age_groups_data.append((age_group, bootstrap_ci(age_group_data)))\n",
    "\n",
    "# Check if confidence intervals overlap between different age groups\n",
    "overlap = False\n",
    "for i in range(len(age_groups_data)):\n",
    "    for j in range(i + 1, len(age_groups_data)):\n",
    "        ci1 = age_groups_data[i][1]\n",
    "        ci2 = age_groups_data[j][1]\n",
    "        if ci1[1] >= ci2[0] and ci2[1] >= ci1[0]:\n",
    "            overlap = True\n",
    "            break\n",
    "    if overlap:\n",
    "        break\n",
    "\n",
    "if overlap:\n",
    "    print(\"The confidence intervals for the average amount spent by different age groups overlap.\")\n",
    "else:\n",
    "    print(\"The confidence intervals for the average amount spent by different age groups do not overlap.\")\n"
   ]
  }
 ],
 "metadata": {
  "kernelspec": {
   "display_name": "Python 3 (ipykernel)",
   "language": "python",
   "name": "python3"
  },
  "language_info": {
   "codemirror_mode": {
    "name": "ipython",
    "version": 3
   },
   "file_extension": ".py",
   "mimetype": "text/x-python",
   "name": "python",
   "nbconvert_exporter": "python",
   "pygments_lexer": "ipython3",
   "version": "3.9.13"
  }
 },
 "nbformat": 4,
 "nbformat_minor": 5
}
